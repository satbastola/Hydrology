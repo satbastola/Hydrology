{
 "cells": [
  {
   "cell_type": "markdown",
   "id": "ac09836d",
   "metadata": {},
   "source": [
    "# 🌾 Introduction to Drought Indices\n",
    "\n",
    "Drought indices are quantitative tools that synthesize complex hydrometeorological data into a single value to assess the severity, duration, and spatial extent of droughts. These indices are essential for monitoring drought conditions, informing water resource management, and guiding policy decisions.\n",
    "\n",
    "---\n",
    "\n",
    "## 📊 Common Drought Indices and Equations\n",
    "\n",
    "| **Index** | **Description** | **Key Equation / Basis** |\n",
    "|----------|------------------|---------------------------|\n",
    "| **SPI (Standardized Precipitation Index)** | Measures precipitation anomalies over multiple timescales. | $$ SPI = \\frac{X - \\mu}{\\sigma} $$ where \\( X \\) is precipitation, \\( \\mu \\) is mean, and \\( \\sigma \\) is standard deviation. |\n",
    "| **PDSI (Palmer Drought Severity Index)** | Evaluates long-term drought using temperature and precipitation data. | Based on a water balance model incorporating evapotranspiration, soil moisture, and runoff. |\n",
    "| **SPEI (Standardized Precipitation Evapotranspiration Index)** | Extends SPI by including temperature-driven evapotranspiration. | Similar to SPI but uses climatic water balance: \\( \\text{Precipitation} - \\text{PET} \\). |\n",
    "| **CWSI (Crop Water Stress Index)** | Assesses plant water stress using canopy temperature. | $$ CWSI = \\frac{T_c - T_{wet}}{T_{dry} - T_{wet}} $$ |\n",
    "| **SWSI (Surface Water Supply Index)** | Integrates snowpack, streamflow, and reservoir storage. | Weighted average of hydrologic components normalized to historical data. |\n",
    "\n",
    "---\n",
    "\n",
    "## ⚠️ Limitations of Drought Indices\n",
    "\n",
    "- **Single-variable focus**: Many indices, like SPI, only account for precipitation.\n",
    "- **Regional calibration issues**: Indices such as PDSI may underperform in areas with complex terrain or unusual soils.\n",
    "- **Baseline dependency**: Results can be sensitive to the reference period used for standardization.\n",
    "- **Time lag**: Some indices may not respond immediately to drought onset or cessation.\n",
    "- **Data demands**: Require high-quality, long-term climate data for accuracy.\n",
    "\n",
    "---\n",
    "\n",
    "## 🌍 Potential Uses and Applications\n",
    "\n",
    "- **Early warning systems**: Trigger alerts for proactive drought management.\n",
    "- **Agriculture**: Support irrigation planning and crop decisions.\n",
    "- **Water resource management**: Guide reservoir operations and allocation.\n",
    "- **Climate research**: Evaluate long-term drought trends and projections.\n",
    "- **Policy making and insurance**: Define thresholds for drought declarations and impact-based payouts.\n",
    "\n",
    "---\n",
    "# 🔮 Influence of Future Climate Projections on Drought Indices\n",
    "\n",
    "As the climate continues to evolve, drought indices must adapt to changing temperature and precipitation patterns. Future projections alter how we interpret drought severity and frequency, highlighting the need for more responsive and climate-aware tools.\n",
    "\n",
    "---\n",
    "\n",
    "## 🌡️ Key Influences on Drought Indices\n",
    "\n",
    "1. **Changing Baselines**  \n",
    "   Most indices use historical averages to define “normal” conditions. As precipitation and temperature patterns shift, these baselines become outdated, potentially masking the true severity of future droughts.\n",
    "\n",
    "2. **Rising Evapotranspiration**  \n",
    "   Higher temperatures increase evapotranspiration, reducing soil moisture even without a decrease in precipitation. Indices that ignore temperature (e.g., SPI) may underestimate future drought risk.\n",
    "\n",
    "3. **Precipitation Variability**  \n",
    "   Future climates are expected to experience more erratic rainfall—dry spells followed by intense storms. This variability challenges assumptions of consistency built into traditional drought models.\n",
    "\n",
    "4. **Regional Disparities**  \n",
    "   Different regions will experience different drought types. For instance, chronic drought in the Southwest versus flash droughts in the Midwest. Indices need regional calibration to remain meaningful.\n",
    "\n",
    "5. **Scenario Sensitivity**  \n",
    "   Drought forecasts vary under different greenhouse gas pathways (e.g., SSP1-2.6 vs. SSP5-8.5), introducing uncertainty into long-term planning.\n",
    "\n",
    "---\n",
    "\n",
    "## 📈 Index-Specific Impacts\n",
    "\n",
    "| **Drought Index** | **Projected Climate Impacts** |\n",
    "|-------------------|-------------------------------|\n",
    "| **SPI**           | May understate drought under warming due to lack of temperature sensitivity. |\n",
    "| **SPEI**          | Better captures future drought risk by incorporating PET; more climate-resilient. |\n",
    "| **PDSI**          | Can overestimate drought in arid areas; sensitive to model assumptions. |\n",
    "| **CWSI**          | Limited by availability of high-resolution remote sensing for future projections. |\n",
    "| **SWSI**          | Highly variable due to uncertain snowpack and hydrologic inputs under climate change. |\n",
    "\n",
    "---\n",
    "\n",
    "## 🌍 Strategic Applications\n",
    "\n",
    "- **Adaptive Baselines**: Use rolling averages or model-based baselines to reflect evolving climatic norms.\n",
    "- **Forecast Integration**: Combine drought indices with seasonal forecasts or climate model outputs.\n",
    "- **Decision-Making Support**: Inform water allocation, land-use policy, and emergency preparedness.\n",
    "- **Enhanced Monitoring**: Integrate with remote sensing and AI-based tools for more timely detection.\n"
   ]
  },
  {
   "cell_type": "code",
   "execution_count": null,
   "id": "058d8a35",
   "metadata": {},
   "outputs": [],
   "source": [
    "#pip install pandas matplotlib requests daymetpy\n",
    "# pip install pandas matplotlib requests daymetpy\n",
    "import numpy as np\n",
    "import pandas as pd\n",
    "import matplotlib.pyplot as plt\n",
    "#from daymetpy import get_daymet_singlepixel\n",
    "import requests\n",
    "import io\n",
    "\n",
    "# Coordinates and year\n",
    "lat = 30.25\n",
    "lon = -90.07\n",
    "year = 2020\n",
    "# Request URL\n",
    "#url = f\"https://daymet.ornl.gov/single-pixel/api/data?lat={lat}&lon={lon}&year={year}&format=csv\"\n",
    "url=f\"https://daymet.ornl.gov/single-pixel/api/data?lat=33.1&lon=-88&vars=CommaSeparatedVariables&years=CommaSeparated2020\"\n",
    "\n",
    "# Make authenticated request\n",
    "with requests.Session() as s:\n",
    "    #s.auth = (USERNAME, PASSWORD)\n",
    "    r = s.get(url)\n",
    "    if r.status_code != 200:\n",
    "        raise Exception(f\"Failed: {r.status_code} – {r.reason}\")\n",
    "    \n",
    "    df = pd.read_csv(io.StringIO(r.text), skiprows=6)\n",
    "    df['temperature'] = (df['tmin (deg c)'] + df['tmax (deg c)']) / 2\n",
    "    df['date'] = pd.to_datetime(df['year'].astype(str) + df['yday'].astype(str), format='%Y%j')\n",
    "    df = df[['date', 'prcp (mm/day)', 'temperature']].rename(columns={'prcp (mm/day)': 'precipitation'})\n",
    "    \n",
    "# Plot example\n",
    "# Create DataFrame\n",
    "df = pd.DataFrame(df)\n",
    "\n",
    "# Calculate Standardized Precipitation Index (SPI)\n",
    "def calculate_spi(precipitation, scale=30):\n",
    "    rolling_precip = precipitation.rolling(window=scale).sum()\n",
    "    spi = (rolling_precip - rolling_precip.mean()) / rolling_precip.std()\n",
    "    return spi\n",
    "\n",
    "# Calculate Palmer Drought Severity Index (PDSI)\n",
    "def calculate_pdsi(temperature, precipitation):\n",
    "    # Simplified PDSI calculation\n",
    "    pdsi = (temperature - temperature.mean()) - (precipitation - precipitation.mean())\n",
    "    return pdsi\n",
    "\n",
    "# Calculate Reconnaissance Drought Index (RDI)\n",
    "def calculate_rdi(temperature, precipitation):\n",
    "    rdi = precipitation / (temperature + 1)\n",
    "    return rdi\n",
    "\n",
    "# Calculate Standardized Precipitation Evapotranspiration Index (SPEI)\n",
    "def calculate_spei(precipitation, temperature, scale=30):\n",
    "    evapotranspiration = 0.0023 * (temperature + 17.8) * np.sqrt(temperature) * (1 - np.exp(-0.02 * precipitation))\n",
    "    water_balance = precipitation - evapotranspiration\n",
    "    rolling_balance = water_balance.rolling(window=scale).sum()\n",
    "    spei = (rolling_balance - rolling_balance.mean()) / rolling_balance.std()\n",
    "    return spei\n",
    "\n",
    "# Calculate Effective Drought Index (EDI)\n",
    "def calculate_edi(precipitation, scale=30):\n",
    "    rolling_precip = precipitation.rolling(window=scale).sum()\n",
    "    mean_precip = rolling_precip.mean()\n",
    "    std_precip = rolling_precip.std()\n",
    "    edi = (rolling_precip - mean_precip) / std_precip\n",
    "    return edi\n",
    "\n",
    "# Add drought indices to DataFrame\n",
    "df['spi'] = calculate_spi(df['precipitation'])\n",
    "df['pdsi'] = calculate_pdsi(df['temperature'], df['precipitation'])\n",
    "df['rdi'] = calculate_rdi(df['temperature'], df['precipitation'])\n",
    "df['spei'] = calculate_spei(df['precipitation'], df['temperature'])\n",
    "df['edi'] = calculate_edi(df['precipitation'])\n",
    "\n",
    "# Plot drought indices\n",
    "plt.figure(figsize=(15, 15))\n",
    "\n",
    "plt.subplot(5, 1, 1)\n",
    "plt.plot(df['date'], df['spi'], label='SPI')\n",
    "plt.axhline(0, color='red', linestyle='--')\n",
    "plt.title('Standardized Precipitation Index (SPI)')\n",
    "plt.legend()\n",
    "\n",
    "plt.subplot(5, 1, 2)\n",
    "plt.plot(df['date'], df['pdsi'], label='PDSI')\n",
    "plt.axhline(0, color='red', linestyle='--')\n",
    "plt.title('Palmer Drought Severity Index (PDSI)')\n",
    "plt.legend()\n",
    "\n",
    "plt.subplot(5, 1, 3)\n",
    "plt.plot(df['date'], df['rdi'], label='RDI')\n",
    "plt.axhline(0, color='red', linestyle='--')\n",
    "plt.title('Reconnaissance Drought Index (RDI)')\n",
    "plt.legend()\n",
    "\n",
    "plt.subplot(5, 1, 4)\n",
    "plt.plot(df['date'], df['spei'], label='SPEI')\n",
    "plt.axhline(0, color='red', linestyle='--')\n",
    "plt.title('Standardized Precipitation Evapotranspiration Index (SPEI)')\n",
    "plt.legend()\n",
    "\n",
    "plt.subplot(5, 1, 5)\n",
    "plt.plot(df['date'], df['edi'], label='EDI')\n",
    "plt.axhline(0, color='red', linestyle='--')\n",
    "plt.title('Effective Drought Index (EDI)')\n",
    "plt.legend()\n",
    "\n",
    "plt.tight_layout()\n",
    "plt.show()\n"
   ]
  },
  {
   "cell_type": "markdown",
   "id": "fdcff43b-d8aa-4793-bc27-163b9895250c",
   "metadata": {},
   "source": [
    "# 🧪 Learning Module: Exploring Drought Indices Using Python\n",
    "\n",
    "---\n",
    "\n",
    "## 🎯 Learning Objectives\n",
    "\n",
    "By the end of this module, students will be able to:\n",
    "\n",
    "- Understand the purpose and mechanics of common drought indices.\n",
    "- Analyze climate data using Python to calculate indices such as SPI, SPEI, PDSI, RDI, and EDI.\n",
    "- Visualize and compare how different drought indices behave over time.\n",
    "- Reflect on the limitations and appropriate applications of each index in real-world scenarios.\n",
    "\n",
    "---\n",
    "\n",
    "## 🧠 Conceptual Questions (Pre-coding Discussion)\n",
    "\n",
    "1. What is a drought index, and why might we need more than one to capture drought behavior?\n",
    "2. In what ways does temperature influence how we assess drought severity?\n",
    "3. What are the benefits and limitations of using randomized climate data versus observed records?\n",
    "4. How does using a rolling window (e.g., 30-day mean) influence the interpretation of drought onset and duration?\n",
    "\n",
    "---\n",
    "\n",
    "## 🧵 In-Class Coding Activity\n",
    "\n",
    "Students will:\n",
    "\n",
    "- Implement code to compute five drought indices using synthetic precipitation and temperature data.\n",
    "- Modify the rolling window scale (e.g., from 30 days to 90 days) and observe the differences.\n",
    "- Simulate a synthetic drought period (e.g., reduce precipitation between June and August) and examine each index’s response.\n",
    "- Visualize all indices and interpret which are more responsive or stable over time.\n",
    "\n",
    "---\n",
    "\n",
    "## 🪞 Reflective Prompts (Post-coding)\n",
    "\n",
    "- Which index was most responsive to short-term changes in precipitation or temperature?\n",
    "- Which index provided a more stable long-term view of drought progression?\n",
    "- If you were tasked with designing a drought monitoring system for your region, which index would you prioritize, and why?\n",
    "- What additional environmental variables (e.g., soil moisture, wind speed) would enhance your drought assessment?\n",
    "\n",
    "---\n",
    "\n",
    "## 🚀 Extension Ideas\n",
    "\n",
    "- Load real-world climate data from GRIDMET or ERA5.\n",
    "- Develop an interactive dashboard using `ipywidgets` or `Plotly Dash`.\n",
    "- Perform ensemble simulations using synthetic climate scenarios to evaluate index robustness.\n",
    "- Compare observed droughts (e.g., 2011 Texas drought) to modeled indices.\n",
    "---\n",
    "\n",
    "Would you like this converted into a Jupyter Notebook with embedded markdown and code scaffolding?"
   ]
  },
  {
   "cell_type": "code",
   "execution_count": null,
   "id": "bb318a82-b536-438d-ac2d-24b50354ca59",
   "metadata": {},
   "outputs": [],
   "source": [
    "import ipywidgets as widgets\n",
    "from IPython.display import display, Markdown, clear_output\n",
    "\n",
    "# Quiz data\n",
    "quiz_questions = [\n",
    "    {\n",
    "        \"question\": \"Which drought index incorporates both precipitation and temperature?\",\n",
    "        \"options\": [\"SPI\", \"SPEI\", \"PDSI\", \"EDI\"],\n",
    "        \"answer\": \"SPEI\",\n",
    "        \"explanation\": {\n",
    "            \"SPI\": \"Incorrect. SPI uses only precipitation and does not consider temperature.\",\n",
    "            \"SPEI\": \"Correct! SPEI includes both precipitation and potential evapotranspiration, making it temperature-sensitive.\",\n",
    "            \"PDSI\": \"Partially correct, but not the best answer here—PDSI incorporates temperature but is less standardized across regions.\",\n",
    "            \"EDI\": \"Incorrect. EDI focuses on effective rainfall, not temperature.\"\n",
    "        }\n",
    "    },\n",
    "    {\n",
    "        \"question\": \"The Reconnaissance Drought Index (RDI) is based on:\",\n",
    "        \"options\": [\n",
    "            \"A soil moisture balance model\",\n",
    "            \"Streamflow-to-precipitation ratios\",\n",
    "            \"The ratio of precipitation to temperature\",\n",
    "            \"Evapotranspiration deficits\"\n",
    "        ],\n",
    "        \"answer\": \"The ratio of precipitation to temperature\",\n",
    "        \"explanation\": {\n",
    "            \"A soil moisture balance model\": \"Incorrect. That's more aligned with the PDSI.\",\n",
    "            \"Streamflow-to-precipitation ratios\": \"Incorrect. That's related to hydrological indices.\",\n",
    "            \"The ratio of precipitation to temperature\": \"Correct! RDI is derived from the precipitation-to-temperature ratio.\",\n",
    "            \"Evapotranspiration deficits\": \"Incorrect. That’s used in indices like SPEI.\"\n",
    "        }\n",
    "    },\n",
    "    {\n",
    "        \"question\": \"What is the effect of increasing the rolling window from 30 to 90 days in SPI or EDI?\",\n",
    "        \"options\": [\n",
    "            \"Captures more rapid drought events\",\n",
    "            \"Increases the frequency of false drought detections\",\n",
    "            \"Smooths the data and captures longer-term trends\",\n",
    "            \"Makes the index independent of input variables\"\n",
    "        ],\n",
    "        \"answer\": \"Smooths the data and captures longer-term trends\",\n",
    "        \"explanation\": {\n",
    "            \"Captures more rapid drought events\": \"Incorrect. Longer windows actually smooth over short-term variability.\",\n",
    "            \"Increases the frequency of false drought detections\": \"Incorrect. A longer window decreases sensitivity to short-term fluctuations.\",\n",
    "            \"Smooths the data and captures longer-term trends\": \"Correct! A 90-day window highlights sustained anomalies.\",\n",
    "            \"Makes the index independent of input variables\": \"Incorrect. The input data still determines the result.\"\n",
    "        }\n",
    "    }\n",
    "]\n",
    "\n",
    "# Display the quiz\n",
    "def create_quiz():\n",
    "    output = widgets.Output()\n",
    "    display(Markdown(\"## ✅ Quiz: Test Your Understanding\"))\n",
    "\n",
    "    for q in quiz_questions:\n",
    "        dropdown = widgets.RadioButtons(\n",
    "            options=q[\"options\"],\n",
    "            description=\"\",\n",
    "            layout=widgets.Layout(width='auto'),\n",
    "            style={'description_width': 'initial'}\n",
    "        )\n",
    "\n",
    "        submit_button = widgets.Button(description=\"Submit Answer\")\n",
    "        feedback = widgets.Output()\n",
    "\n",
    "        def on_submit(btn, q=q, dropdown=dropdown, feedback=feedback):\n",
    "            feedback.clear_output()\n",
    "            selected = dropdown.value\n",
    "            with feedback:\n",
    "                print(q[\"explanation\"][selected])\n",
    "\n",
    "        submit_button.on_click(on_submit)\n",
    "\n",
    "        display(Markdown(f\"**Q: {q['question']}**\"))\n",
    "        display(dropdown)\n",
    "        display(submit_button)\n",
    "        display(feedback)\n",
    "        display(Markdown(\"---\"))\n",
    "\n",
    "create_quiz()"
   ]
  },
  {
   "cell_type": "markdown",
   "id": "1df128dc-017c-4d67-8794-9603f091d098",
   "metadata": {},
   "source": [
    "# 🌾 Multi-Time Scale Drought Index Visualization and Analysis\n",
    "\n",
    "This interactive tool provides a dynamic visualization and statistical summary of drought behavior across multiple time scales using widely recognized drought indices—**SPI**, **SPEI**, and **EDI**. The goal is to analyze the **temporal dynamics** of drought conditions at varying aggregation periods and quantify both the **severity** and **duration** of dry spells.\n",
    "\n",
    "---\n",
    "## 🔍 Features\n",
    "- **Interactive dropdown menu** to select a drought index (`SPI`, `SPEI`, `EDI`)\n",
    "- **Heatmap** displaying index values across different time scales (30, 60, 90, 120 days)\n",
    "- **Annual x-axis ticks** for clean temporal interpretation\n",
    "- **Summary table** highlighting:\n",
    "  - Mean drought severity (average index value during drought periods)\n",
    "  - Mean drought duration (average length of consecutive drought days)\n",
    "---\n",
    "\n",
    "## 📈 Methodology\n",
    "\n",
    "### ⏱ Time Scales Analyzed\n",
    "- **30 days**: captures short-term droughts and rapid shifts in weather\n",
    "- **60 days**: balances short- and medium-term anomalies\n",
    "- **90 days**: reveals seasonal-scale dryness\n",
    "- **120 days**: identifies persistent or long-term droughts\n",
    "\n",
    "### 🧮 Drought Indicators\n",
    "- **SPI (Standardized Precipitation Index)**: based on precipitation anomalies\n",
    "- **SPEI (Standardized Precipitation Evapotranspiration Index)**: considers both precipitation and temperature-induced evapotranspiration\n",
    "- **EDI (Effective Drought Index)**: captures effective rainfall anomalies over time\n",
    "\n",
    "---\n",
    "## 🔬 Summary Metrics\n",
    "\n",
    "| Metric              | Definition                                                                 |\n",
    "|---------------------|------------------------------------------------------------------------------|\n",
    "| **Mean Severity**   | Average index value **below 0**, indicating how intense typical drought periods are |\n",
    "| **Mean Duration**   | Average length (in days) of **consecutive drought periods** (i.e., runs of index < 0)  |\n",
    "\n",
    "The table updates automatically based on the selected drought index and time scale combination, providing insight into the temporal characteristics of drought persistence and depth.\n",
    "\n",
    "---\n",
    "## 🎨 Visualization Output\n",
    "\n",
    "- Heatmap:\n",
    "  - **Rows** = time scales (days)\n",
    "  - **Columns** = dates\n",
    "  - **Colors**:\n",
    "    - 🔵 Blue = wet periods\n",
    "    - ⚪ Neutral = normal conditions\n",
    "    - 🔴 Red = drought periods\n",
    "- Summary Table:\n",
    "  - Tabular report of **mean drought severity and duration** for each selected scale.\n",
    "\n",
    "---\n",
    "\n",
    "## ✅ How to Use\n",
    "\n",
    "1. Run the code in a Jupyter Notebook with pandas, matplotlib, seaborn, ipywidgets.\n",
    "2. Ensure that the functions `calculate_spi`, `calculate_spei`, and `calculate_edi` are defined.\n",
    "3. Load a `df` DataFrame with columns:\n",
    "   - `date` (datetime)\n",
    "   - `precipitation` (mm)\n",
    "   - `temperature` (°C)\n",
    "4. Choose a drought index from the dropdown to explore multi-scale behavior.\n",
    "5. Interpret both the **visual trends** and the **quantitative summary** for informed drought diagnostics.\n"
   ]
  },
  {
   "cell_type": "code",
   "execution_count": null,
   "id": "7ae5133a-c2ab-4651-afc2-d00049b25110",
   "metadata": {},
   "outputs": [],
   "source": [
    "import numpy as np\n",
    "import pandas as pd\n",
    "import matplotlib.pyplot as plt\n",
    "import seaborn as sns\n",
    "import ipywidgets as widgets\n",
    "from IPython.display import display, clear_output\n",
    "\n",
    "# Define time scales to evaluate\n",
    "scales = [30, 60, 90, 120]\n",
    "\n",
    "# Define drought index functions beforehand\n",
    "index_functions = {\n",
    "    'SPI': calculate_spi,\n",
    "    'SPEI': calculate_spei,\n",
    "    'EDI': calculate_edi\n",
    "}\n",
    "\n",
    "# Create dropdown widget\n",
    "index_selector = widgets.Dropdown(\n",
    "    options=list(index_functions.keys()),\n",
    "    value='SPI',\n",
    "    description='Drought Index:'\n",
    ")\n",
    "\n",
    "# Output area\n",
    "output = widgets.Output()\n",
    "\n",
    "def compute_drought_duration(series):\n",
    "    \"\"\"Returns mean duration of droughts (runs of consecutive values < 0)\"\"\"\n",
    "    drought_lengths = []\n",
    "    count = 0\n",
    "    for val in series:\n",
    "        if pd.isna(val):\n",
    "            if count > 0:\n",
    "                drought_lengths.append(count)\n",
    "                count = 0\n",
    "            continue\n",
    "        if val < 0:\n",
    "            count += 1\n",
    "        elif count > 0:\n",
    "            drought_lengths.append(count)\n",
    "            count = 0\n",
    "    if count > 0:\n",
    "        drought_lengths.append(count)\n",
    "    return np.mean(drought_lengths) if drought_lengths else 0\n",
    "\n",
    "def plot_index_heatmap(index_name):\n",
    "    with output:\n",
    "        clear_output(wait=True)\n",
    "\n",
    "        heat_df = pd.DataFrame({'date': df['date']})\n",
    "        summaries = []\n",
    "\n",
    "        for scale in scales:\n",
    "            # Compute drought index\n",
    "            if index_name == 'SPEI':\n",
    "                values = calculate_spei(df['precipitation'], df['temperature'], scale)\n",
    "            else:\n",
    "                values = index_functions[index_name](df['precipitation'], scale)\n",
    "\n",
    "            heat_df[f'{index_name}_{scale}'] = values\n",
    "\n",
    "            # Mean severity (only values < 0) and mean duration\n",
    "            mean_severity = values[values < 0].mean()\n",
    "            mean_duration = compute_drought_duration(values)\n",
    "            summaries.append({'Time Scale (days)': scale,\n",
    "                              'Mean Severity': round(mean_severity, 2),\n",
    "                              'Mean Duration (days)': round(mean_duration, 1)})\n",
    "\n",
    "        # Reshape for heatmap\n",
    "        melted = pd.melt(heat_df, id_vars='date', var_name='scale', value_name='Value')\n",
    "        melted['scale'] = melted['scale'].str.extract(r'(\\d+)').astype(int)\n",
    "        heatmap_df = melted.pivot_table(index='scale', columns='date', values='Value')\n",
    "        heatmap_df.columns = pd.to_datetime(heatmap_df.columns)\n",
    "\n",
    "        # Set tick positions\n",
    "        tick_spacing = 365\n",
    "        tick_positions = heatmap_df.columns[::tick_spacing]\n",
    "        tick_labels = [d.strftime('%Y') for d in tick_positions]\n",
    "\n",
    "        # Plot heatmap\n",
    "        fig, ax = plt.subplots(figsize=(16, 5))\n",
    "        sns.heatmap(heatmap_df, cmap='RdBu_r', center=0,\n",
    "                    cbar_kws={'label': f'{index_name} Value'}, ax=ax)\n",
    "\n",
    "        ax.set_title(f'{index_name} Heatmap Across Time Scales')\n",
    "        ax.set_ylabel('Time Scale (Days)')\n",
    "        ax.set_xlabel('Year')\n",
    "        ax.set_xticks(np.arange(0, len(heatmap_df.columns), tick_spacing))\n",
    "        ax.set_xticklabels(tick_labels, rotation=0, ha='center')\n",
    "        plt.tight_layout()\n",
    "        plt.show()\n",
    "\n",
    "        # Print summary table\n",
    "        summary_df = pd.DataFrame(summaries)\n",
    "        print(f\"\\n📊 {index_name} Summary by Time Scale:\")\n",
    "        display(summary_df)\n",
    "\n",
    "# Display interactive widget\n",
    "widgets.interact(plot_index_heatmap, index_name=index_selector)\n",
    "display(output)"
   ]
  },
  {
   "cell_type": "markdown",
   "id": "8651e3b7-5a5a-4078-87e3-983c45686df8",
   "metadata": {},
   "source": [
    "# 🌾 Conceptual and Reflective Questions on Multi-Time Scale Drought Indices\n",
    "\n",
    "This section complements the interactive visualization and analysis of drought indices (SPI, SPEI, EDI) across multiple time scales. Use these questions to deepen understanding, guide discussion, or frame assessments in an educational or analytical setting.\n",
    "\n",
    "---\n",
    "\n",
    "## 💡 Conceptual Questions\n",
    "\n",
    "1. **Why is it important to analyze drought indices across multiple time scales instead of using a fixed window?**\n",
    "2. **How does increasing the rolling window (e.g., from 30 to 120 days) affect the responsiveness of drought detection?**\n",
    "3. **In what scenarios might short-term drought indices (e.g., 30-day SPI) be misleading or insufficient?**\n",
    "4. **What are the key differences between SPI, SPEI, and EDI in how they represent drought processes?**\n",
    "5. **How might incorporating temperature (e.g., in SPEI) change the interpretation of drought under climate change?**\n",
    "6. **What assumptions underlie the use of rolling averages in drought computation, and how might these affect accuracy?**\n",
    "7. **Why is the value zero commonly used as the threshold between drought and non-drought conditions in indices?**\n",
    "\n",
    "---\n",
    "\n",
    "## 🪞 Reflective Questions\n",
    "\n",
    "1. **Which drought index (SPI, SPEI, or EDI) provided the most intuitive interpretation of drought in your region, and why?**\n",
    "2. **How did mean severity and mean duration shift as the time scale increased? Were the results consistent with expectations?**\n",
    "3. **Were there drought events detected at short time scales but not visible at longer ones? What does this suggest about index sensitivity?**\n",
    "4. **How might your drought response strategy differ if based on 30-day vs. 120-day index values?**\n",
    "5. **Which time scale seemed to best align with observed seasonal dry periods? Explain how this influenced your interpretation.**\n",
    "6. **If you were advising a policymaker, which index and scale would you recommend for early warning versus long-term planning?**\n",
    "7. **What might be the consequences of overestimating or underestimating drought intensity when using only a single time scale?**\n",
    "\n"
   ]
  },
  {
   "cell_type": "code",
   "execution_count": 35,
   "id": "575a6f7f-56a9-4f92-8d3b-38b7eef542a5",
   "metadata": {},
   "outputs": [
    {
     "data": {
      "application/vnd.jupyter.widget-view+json": {
       "model_id": "3556b83febf74fcab8e27191c475c41d",
       "version_major": 2,
       "version_minor": 0
      },
      "text/plain": [
       "VBox(children=(Label(value='1. What does a drought index value below 0 typically indicate?'), RadioButtons(lay…"
      ]
     },
     "metadata": {},
     "output_type": "display_data"
    },
    {
     "data": {
      "application/vnd.jupyter.widget-view+json": {
       "model_id": "497c896d682449f6a901ba47bb484911",
       "version_major": 2,
       "version_minor": 0
      },
      "text/plain": [
       "HTML(value='<hr>')"
      ]
     },
     "metadata": {},
     "output_type": "display_data"
    },
    {
     "data": {
      "application/vnd.jupyter.widget-view+json": {
       "model_id": "5e1741690bbc4f239b6fe9b8b0ad4dc5",
       "version_major": 2,
       "version_minor": 0
      },
      "text/plain": [
       "VBox(children=(Label(value='2. Which index includes both precipitation and temperature data?'), RadioButtons(l…"
      ]
     },
     "metadata": {},
     "output_type": "display_data"
    },
    {
     "data": {
      "application/vnd.jupyter.widget-view+json": {
       "model_id": "88a794bd2d334dedb2817f9477643c09",
       "version_major": 2,
       "version_minor": 0
      },
      "text/plain": [
       "HTML(value='<hr>')"
      ]
     },
     "metadata": {},
     "output_type": "display_data"
    },
    {
     "data": {
      "application/vnd.jupyter.widget-view+json": {
       "model_id": "98296fc3fd584ccfb56a57e09f7feb15",
       "version_major": 2,
       "version_minor": 0
      },
      "text/plain": [
       "VBox(children=(Label(value='3. What is the primary difference between a 30-day and 120-day drought index?'), R…"
      ]
     },
     "metadata": {},
     "output_type": "display_data"
    },
    {
     "data": {
      "application/vnd.jupyter.widget-view+json": {
       "model_id": "0c6aedaa1b604276a53e8f5a2d773d32",
       "version_major": 2,
       "version_minor": 0
      },
      "text/plain": [
       "HTML(value='<hr>')"
      ]
     },
     "metadata": {},
     "output_type": "display_data"
    },
    {
     "data": {
      "application/vnd.jupyter.widget-view+json": {
       "model_id": "c9055007179f4d1bbbd1c5e16d56a0dc",
       "version_major": 2,
       "version_minor": 0
      },
      "text/plain": [
       "VBox(children=(Label(value='4. A longer mean drought duration suggests:'), RadioButtons(layout=Layout(width='m…"
      ]
     },
     "metadata": {},
     "output_type": "display_data"
    },
    {
     "data": {
      "application/vnd.jupyter.widget-view+json": {
       "model_id": "81375d225d574651b7db493d6c677fd0",
       "version_major": 2,
       "version_minor": 0
      },
      "text/plain": [
       "HTML(value='<hr>')"
      ]
     },
     "metadata": {},
     "output_type": "display_data"
    },
    {
     "data": {
      "application/vnd.jupyter.widget-view+json": {
       "model_id": "a97b4c927ec74cf4a3e64e8734f1b780",
       "version_major": 2,
       "version_minor": 0
      },
      "text/plain": [
       "VBox(children=(Label(value='5. Which drought index is based purely on precipitation?'), RadioButtons(layout=La…"
      ]
     },
     "metadata": {},
     "output_type": "display_data"
    },
    {
     "data": {
      "application/vnd.jupyter.widget-view+json": {
       "model_id": "8ba1cd68acaf42afaca4f83c1b11d7af",
       "version_major": 2,
       "version_minor": 0
      },
      "text/plain": [
       "HTML(value='<hr>')"
      ]
     },
     "metadata": {},
     "output_type": "display_data"
    },
    {
     "data": {
      "application/vnd.jupyter.widget-view+json": {
       "model_id": "29542a57abf84ed695322bacf523f8b8",
       "version_major": 2,
       "version_minor": 0
      },
      "text/plain": [
       "VBox(children=(Label(value='6. Why might SPI underestimate drought during heatwaves?'), RadioButtons(layout=La…"
      ]
     },
     "metadata": {},
     "output_type": "display_data"
    },
    {
     "data": {
      "application/vnd.jupyter.widget-view+json": {
       "model_id": "cc476098765e4edcb47577eb194f5f59",
       "version_major": 2,
       "version_minor": 0
      },
      "text/plain": [
       "HTML(value='<hr>')"
      ]
     },
     "metadata": {},
     "output_type": "display_data"
    },
    {
     "data": {
      "application/vnd.jupyter.widget-view+json": {
       "model_id": "9f0416dd076e4fc4bdbbd78e1d5aca9e",
       "version_major": 2,
       "version_minor": 0
      },
      "text/plain": [
       "VBox(children=(Label(value='7. What is the role of time scale in drought detection?'), RadioButtons(layout=Lay…"
      ]
     },
     "metadata": {},
     "output_type": "display_data"
    },
    {
     "data": {
      "application/vnd.jupyter.widget-view+json": {
       "model_id": "20e7ecca6333474bb705fb7d0ae1be79",
       "version_major": 2,
       "version_minor": 0
      },
      "text/plain": [
       "HTML(value='<hr>')"
      ]
     },
     "metadata": {},
     "output_type": "display_data"
    },
    {
     "data": {
      "application/vnd.jupyter.widget-view+json": {
       "model_id": "8bac77a14e894969bb183b7095676cac",
       "version_major": 2,
       "version_minor": 0
      },
      "text/plain": [
       "VBox(children=(Label(value='8. If drought severity is -1.5 on a 30-day SPEI, what does this indicate?'), Radio…"
      ]
     },
     "metadata": {},
     "output_type": "display_data"
    },
    {
     "data": {
      "application/vnd.jupyter.widget-view+json": {
       "model_id": "05fbbb564bd6457b9c4a1d9324b119c7",
       "version_major": 2,
       "version_minor": 0
      },
      "text/plain": [
       "HTML(value='<hr>')"
      ]
     },
     "metadata": {},
     "output_type": "display_data"
    },
    {
     "data": {
      "application/vnd.jupyter.widget-view+json": {
       "model_id": "856008b4e3a24670879ecb4c1f1fafbb",
       "version_major": 2,
       "version_minor": 0
      },
      "text/plain": [
       "VBox(children=(Label(value='9. Which method calculates effective rainfall-based drought behavior?'), RadioButt…"
      ]
     },
     "metadata": {},
     "output_type": "display_data"
    },
    {
     "data": {
      "application/vnd.jupyter.widget-view+json": {
       "model_id": "adfe1620fdf641429a53b54894cd74fd",
       "version_major": 2,
       "version_minor": 0
      },
      "text/plain": [
       "HTML(value='<hr>')"
      ]
     },
     "metadata": {},
     "output_type": "display_data"
    },
    {
     "data": {
      "application/vnd.jupyter.widget-view+json": {
       "model_id": "4ef5ca63d8bb411c911254420eed6322",
       "version_major": 2,
       "version_minor": 0
      },
      "text/plain": [
       "VBox(children=(Label(value='10. In multi-scale drought analysis, consistent drought signals across time scales…"
      ]
     },
     "metadata": {},
     "output_type": "display_data"
    },
    {
     "data": {
      "application/vnd.jupyter.widget-view+json": {
       "model_id": "9d7857af2a274e09abe839c766ea42d6",
       "version_major": 2,
       "version_minor": 0
      },
      "text/plain": [
       "HTML(value='<hr>')"
      ]
     },
     "metadata": {},
     "output_type": "display_data"
    }
   ],
   "source": [
    "import ipywidgets as widgets\n",
    "from IPython.display import display, clear_output\n",
    "\n",
    "# Define quiz questions\n",
    "quiz_data = [\n",
    "    {\n",
    "        'question': \"1. What does a drought index value below 0 typically indicate?\",\n",
    "        'options': [\"Excess moisture\", \"Dry conditions\", \"Data error\", \"Normal precipitation\"],\n",
    "        'answer': \"Dry conditions\",\n",
    "        'explanation': \"Values below 0 generally indicate that the location is experiencing drier-than-normal conditions.\"\n",
    "    },\n",
    "    {\n",
    "        'question': \"2. Which index includes both precipitation and temperature data?\",\n",
    "        'options': [\"SPI\", \"EDI\", \"SPEI\", \"None of the above\"],\n",
    "        'answer': \"SPEI\",\n",
    "        'explanation': \"SPEI accounts for potential evapotranspiration by incorporating temperature.\"\n",
    "    },\n",
    "    {\n",
    "        'question': \"3. What is the primary difference between a 30-day and 120-day drought index?\",\n",
    "        'options': [\"One includes temperature, the other doesn't\", \"Time scale sensitivity\", \"They use different units\", \"Only one detects real droughts\"],\n",
    "        'answer': \"Time scale sensitivity\",\n",
    "        'explanation': \"Shorter windows (e.g., 30-day) are more sensitive to short-term changes than longer windows like 120-day.\"\n",
    "    },\n",
    "    {\n",
    "        'question': \"4. A longer mean drought duration suggests:\",\n",
    "        'options': [\"Frequent wet spells\", \"Persistent dry conditions\", \"Better crop yield\", \"Higher humidity\"],\n",
    "        'answer': \"Persistent dry conditions\",\n",
    "        'explanation': \"Long drought durations indicate long-lasting periods of dryness.\"\n",
    "    },\n",
    "    {\n",
    "        'question': \"5. Which drought index is based purely on precipitation?\",\n",
    "        'options': [\"SPI\", \"SPEI\", \"PDSI\", \"RDI\"],\n",
    "        'answer': \"SPI\",\n",
    "        'explanation': \"SPI uses only precipitation data to quantify drought.\"\n",
    "    },\n",
    "    {\n",
    "        'question': \"6. Why might SPI underestimate drought during heatwaves?\",\n",
    "        'options': [\"It exaggerates rainfall\", \"It ignores humidity\", \"It doesn’t include temperature effects\", \"It uses outdated thresholds\"],\n",
    "        'answer': \"It doesn’t include temperature effects\",\n",
    "        'explanation': \"SPI may miss drought stress caused by high evapotranspiration under heatwaves.\"\n",
    "    },\n",
    "    {\n",
    "        'question': \"7. What is the role of time scale in drought detection?\",\n",
    "        'options': [\"It determines spatial resolution\", \"It affects detection of short- vs long-term events\", \"It changes units\", \"It filters out dry values\"],\n",
    "        'answer': \"It affects detection of short- vs long-term events\",\n",
    "        'explanation': \"Different time scales allow analysis of drought persistence versus rapid shifts.\"\n",
    "    },\n",
    "    {\n",
    "        'question': \"8. If drought severity is -1.5 on a 30-day SPEI, what does this indicate?\",\n",
    "        'options': [\"Extreme wetness\", \"Moderate drought\", \"Severe drought\", \"No drought\"],\n",
    "        'answer': \"Severe drought\",\n",
    "        'explanation': \"Negative SPEI values less than -1.5 typically represent severe drought conditions.\"\n",
    "    },\n",
    "    {\n",
    "        'question': \"9. Which method calculates effective rainfall-based drought behavior?\",\n",
    "        'options': [\"EDI\", \"SPI\", \"SPEI\", \"NDVI\"],\n",
    "        'answer': \"EDI\",\n",
    "        'explanation': \"The Effective Drought Index (EDI) emphasizes rainfall effectiveness over time.\"\n",
    "    },\n",
    "    {\n",
    "        'question': \"10. In multi-scale drought analysis, consistent drought signals across time scales often indicate:\",\n",
    "        'options': [\"High rainfall\", \"Data anomalies\", \"Chronic drought\", \"Short-term weather noise\"],\n",
    "        'answer': \"Chronic drought\",\n",
    "        'explanation': \"When all time scales show dryness, it suggests a long-term, persistent drought.\"\n",
    "    }\n",
    "]\n",
    "\n",
    "# Display interactive quizzes\n",
    "def create_quiz_interface(quiz_data):\n",
    "    for q in quiz_data:\n",
    "        question = widgets.Label(value=q['question'])\n",
    "        options = widgets.RadioButtons(options=q['options'], layout={'width': 'max-content'})\n",
    "        feedback = widgets.Output()\n",
    "        button = widgets.Button(description=\"Check Answer\", button_style='info')\n",
    "\n",
    "        def on_click(b, options=options, feedback=feedback, q=q):\n",
    "            with feedback:\n",
    "                clear_output()\n",
    "                selected = options.value\n",
    "                if selected == q['answer']:\n",
    "                    print(\"✅ Correct!\")\n",
    "                else:\n",
    "                    print(f\"❌ Incorrect. The correct answer is: {q['answer']}\")\n",
    "                print(f\"💡 {q['explanation']}\")\n",
    "\n",
    "        button.on_click(on_click)\n",
    "        display(widgets.VBox([question, options, button, feedback]))\n",
    "        display(widgets.HTML(\"<hr>\"))\n",
    "\n",
    "create_quiz_interface(quiz_data)\n",
    "\n"
   ]
  },
  {
   "cell_type": "code",
   "execution_count": null,
   "id": "e326c131-58d4-4ab2-b8a1-3eefb349c7b7",
   "metadata": {},
   "outputs": [],
   "source": []
  },
  {
   "cell_type": "code",
   "execution_count": null,
   "id": "927ecc30-73b3-42c2-966b-c367c34a26e4",
   "metadata": {},
   "outputs": [],
   "source": []
  }
 ],
 "metadata": {
  "kernelspec": {
   "display_name": "Python [conda env:base] *",
   "language": "python",
   "name": "conda-base-py"
  },
  "language_info": {
   "codemirror_mode": {
    "name": "ipython",
    "version": 3
   },
   "file_extension": ".py",
   "mimetype": "text/x-python",
   "name": "python",
   "nbconvert_exporter": "python",
   "pygments_lexer": "ipython3",
   "version": "3.12.7"
  }
 },
 "nbformat": 4,
 "nbformat_minor": 5
}
